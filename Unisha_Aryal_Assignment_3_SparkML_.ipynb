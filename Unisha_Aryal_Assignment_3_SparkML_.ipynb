{
  "nbformat": 4,
  "nbformat_minor": 0,
  "metadata": {
    "colab": {
      "provenance": []
    },
    "kernelspec": {
      "name": "python3",
      "display_name": "Python 3"
    },
    "language_info": {
      "name": "python"
    }
  },
  "cells": [
    {
      "cell_type": "code",
      "source": [
        "!pip install pyspark"
      ],
      "metadata": {
        "colab": {
          "base_uri": "https://localhost:8080/"
        },
        "id": "U584jtTG9Qls",
        "outputId": "424458ed-8b00-45b6-e9b3-f89db60438c0"
      },
      "execution_count": 1,
      "outputs": [
        {
          "output_type": "stream",
          "name": "stdout",
          "text": [
            "Collecting pyspark\n",
            "  Downloading pyspark-3.5.0.tar.gz (316.9 MB)\n",
            "\u001b[2K     \u001b[90m━━━━━━━━━━━━━━━━━━━━━━━━━━━━━━━━━━━━━━━━\u001b[0m \u001b[32m316.9/316.9 MB\u001b[0m \u001b[31m3.5 MB/s\u001b[0m eta \u001b[36m0:00:00\u001b[0m\n",
            "\u001b[?25h  Preparing metadata (setup.py) ... \u001b[?25l\u001b[?25hdone\n",
            "Requirement already satisfied: py4j==0.10.9.7 in /usr/local/lib/python3.10/dist-packages (from pyspark) (0.10.9.7)\n",
            "Building wheels for collected packages: pyspark\n",
            "  Building wheel for pyspark (setup.py) ... \u001b[?25l\u001b[?25hdone\n",
            "  Created wheel for pyspark: filename=pyspark-3.5.0-py2.py3-none-any.whl size=317425344 sha256=1e03190f67b8739c8441947126eaf79f0aba1e7564212f15d549b8da04f0339d\n",
            "  Stored in directory: /root/.cache/pip/wheels/41/4e/10/c2cf2467f71c678cfc8a6b9ac9241e5e44a01940da8fbb17fc\n",
            "Successfully built pyspark\n",
            "Installing collected packages: pyspark\n",
            "Successfully installed pyspark-3.5.0\n"
          ]
        }
      ]
    },
    {
      "cell_type": "code",
      "source": [
        "!apt-get install openjdk-8-jdk-headless -qq > /dev/null\n",
        "!wget -q https://archive.apache.org/dist/spark/spark-3.2.0/spark-3.2.0-bin-hadoop3.2.tgz\n",
        "!tar xf spark-3.2.0-bin-hadoop3.2.tgz\n",
        "!pip install -q findspark\n",
        "\n",
        "import os\n",
        "os.environ[\"JAVA_HOME\"] = \"/usr/lib/jvm/java-8-openjdk-amd64\"\n",
        "os.environ[\"SPARK_HOME\"] = \"spark-3.2.0-bin-hadoop3.2\"\n",
        "\n",
        "import findspark\n",
        "findspark.init()\n",
        "\n",
        "from pyspark.sql import SparkSession\n",
        "spark = SparkSession.builder.master(\"local[*]\").getOrCreate()\n",
        "sc = spark.sparkContext\n",
        "sc"
      ],
      "metadata": {
        "colab": {
          "base_uri": "https://localhost:8080/",
          "height": 196
        },
        "id": "MZ5uUmiHOGe0",
        "outputId": "9911317e-eaea-4e85-f215-e3b7092dc3b5"
      },
      "execution_count": 2,
      "outputs": [
        {
          "output_type": "execute_result",
          "data": {
            "text/plain": [
              "<SparkContext master=local[*] appName=pyspark-shell>"
            ],
            "text/html": [
              "\n",
              "        <div>\n",
              "            <p><b>SparkContext</b></p>\n",
              "\n",
              "            <p><a href=\"http://f565bd3d5709:4040\">Spark UI</a></p>\n",
              "\n",
              "            <dl>\n",
              "              <dt>Version</dt>\n",
              "                <dd><code>v3.2.0</code></dd>\n",
              "              <dt>Master</dt>\n",
              "                <dd><code>local[*]</code></dd>\n",
              "              <dt>AppName</dt>\n",
              "                <dd><code>pyspark-shell</code></dd>\n",
              "            </dl>\n",
              "        </div>\n",
              "        "
            ]
          },
          "metadata": {},
          "execution_count": 2
        }
      ]
    },
    {
      "cell_type": "markdown",
      "source": [
        "1. Using Spark MLlib build a model to predict taxi fare from trip distance (Model: M1)\n"
      ],
      "metadata": {
        "id": "x6Ygcx5d2EVx"
      }
    },
    {
      "cell_type": "code",
      "source": [
        "#1\n",
        "from pyspark.ml.regression import LinearRegression\n",
        "from pyspark.ml.feature import VectorAssembler\n",
        "from pyspark.ml.evaluation import RegressionEvaluator\n",
        "\n",
        "# Load the dataset\n",
        "m1_data = spark.read.csv(\"/content/nyc_taxi.csv\", header=True, inferSchema=True)\n",
        "\n",
        "# Select features\n",
        "m1_assembler = VectorAssembler(inputCols=[\"distance\"], outputCol=\"features\")\n",
        "m1_data = m1_assembler.transform(m1_data)\n",
        "\n",
        "# Initialize and fit the Linear Regression model\n",
        "m1_lr = LinearRegression(labelCol=\"fare\", featuresCol=\"features\")\n",
        "m1_lr_model = m1_lr.fit(m1_data)"
      ],
      "metadata": {
        "id": "vZVntiCsn0Bw"
      },
      "execution_count": 4,
      "outputs": []
    },
    {
      "cell_type": "markdown",
      "source": [
        "2. Using Spark MLlib build a model to predict taxi fare from trip distance and trip duration in minutes (Model: M2)"
      ],
      "metadata": {
        "id": "0QePrGME7tZG"
      }
    },
    {
      "cell_type": "code",
      "source": [
        "from pyspark.sql.functions import col, concat, lit, to_timestamp\n",
        "\n",
        "m2_data = spark.read.csv(\"/content/nyc_taxi.csv\", header=True, inferSchema=True)\n",
        "spark.sql(\"set spark.sql.legacy.timeParserPolicy=LEGACY\")\n",
        "\n",
        "# Concatenate and convert date and time columns to timestamp objects\n",
        "m2_data = m2_data.withColumn(\"pickup_datetime\", to_timestamp(concat(col(\"pickup_date\"), lit(\" \"), col(\"pickup_time\")),\"MM/d/yyyy HH:mm\"))\n",
        "m2_data = m2_data.withColumn(\"dropoff_datetime\", to_timestamp(concat(col(\"dropoff_date\"), lit(\" \"), col(\"dropoff_time\")), \"MM/d/yyyy HH:mm\"))"
      ],
      "metadata": {
        "id": "bWqxIxaqRV6R"
      },
      "execution_count": 5,
      "outputs": []
    },
    {
      "cell_type": "code",
      "source": [
        "from pyspark.sql.types import IntegerType\n",
        "\n",
        "# Calculate trip duration in minutes\n",
        "m2_data_all = m2_data.withColumn(\"trip_duration_minutes\", ((col(\"dropoff_datetime\").cast(\"long\") - col(\"pickup_datetime\").cast(\"long\")) / 60).cast(IntegerType()))\n",
        "\n",
        "m2_data_all.show(5)"
      ],
      "metadata": {
        "colab": {
          "base_uri": "https://localhost:8080/"
        },
        "id": "I2H55Qfxo_CQ",
        "outputId": "efa5e1b9-c8cd-467d-ea97-86e0f0b2fdb9"
      },
      "execution_count": 6,
      "outputs": [
        {
          "output_type": "stream",
          "name": "stdout",
          "text": [
            "+-----------+-----------+------------+------------+--------+----+-----+-------------------+-------------------+---------------------+\n",
            "|pickup_date|pickup_time|dropoff_date|dropoff_time|distance| tip| fare|    pickup_datetime|   dropoff_datetime|trip_duration_minutes|\n",
            "+-----------+-----------+------------+------------+--------+----+-----+-------------------+-------------------+---------------------+\n",
            "|   1/1/2017|       0:00|    1/1/2017|        0:00|    0.02| 0.0| 52.8|2017-01-01 00:00:00|2017-01-01 00:00:00|                    0|\n",
            "|   1/1/2017|       0:00|    1/1/2017|        0:03|     0.5| 0.0|  5.3|2017-01-01 00:00:00|2017-01-01 00:03:00|                    3|\n",
            "|   1/1/2017|       0:00|    1/1/2017|        0:39|    7.75|4.66|27.96|2017-01-01 00:00:00|2017-01-01 00:39:00|                   39|\n",
            "|   1/1/2017|       0:00|    1/1/2017|        0:06|     0.8|1.45| 8.75|2017-01-01 00:00:00|2017-01-01 00:06:00|                    6|\n",
            "|   1/1/2017|       0:00|    1/1/2017|        0:08|     0.9| 0.0|  8.3|2017-01-01 00:00:00|2017-01-01 00:08:00|                    8|\n",
            "+-----------+-----------+------------+------------+--------+----+-----+-------------------+-------------------+---------------------+\n",
            "only showing top 5 rows\n",
            "\n"
          ]
        }
      ]
    },
    {
      "cell_type": "code",
      "source": [
        "# Select relevant columns including the calculated trip duration\n",
        "m2_training_data = m2_data_all.select(\"distance\", \"trip_duration_minutes\", \"fare\")\n",
        "\n",
        "# Initialize and fit the Linear Regression model (M2)\n",
        "m2_assembler = VectorAssembler(inputCols=[\"distance\", \"trip_duration_minutes\"], outputCol=\"features\")\n",
        "m2_training_data = m2_assembler.transform(m2_training_data)\n",
        "\n",
        "m2_lr = LinearRegression(labelCol=\"fare\", featuresCol=\"features\")\n",
        "m2_lr_model = m2_lr.fit(m2_training_data)"
      ],
      "metadata": {
        "id": "lTv6-hCqpKyH"
      },
      "execution_count": 7,
      "outputs": []
    },
    {
      "cell_type": "markdown",
      "source": [
        "2.1 What is the fare of a 20 mile long trip using M1"
      ],
      "metadata": {
        "id": "F7aiREeQ7FnX"
      }
    },
    {
      "cell_type": "code",
      "source": [
        "new_trip_distance = 20.0\n",
        "new_trip_data = spark.createDataFrame([(new_trip_distance,)], [\"distance\"])\n",
        "new_trip_data = m1_assembler.transform(new_trip_data)\n",
        "predicted_fare = m1_lr_model.transform(new_trip_data).first().prediction\n",
        "\n",
        "# Print the predicted fare\n",
        "print(f\"The predicted fare for a 20-mile using M1 trip is ${predicted_fare:.2f}\")"
      ],
      "metadata": {
        "colab": {
          "base_uri": "https://localhost:8080/"
        },
        "id": "TYzZb8iepmzT",
        "outputId": "328bf4ae-9599-47b9-866b-3bd9f3d37e5c"
      },
      "execution_count": 8,
      "outputs": [
        {
          "output_type": "stream",
          "name": "stdout",
          "text": [
            "The predicted fare for a 20-mile using M1 trip is $67.90\n"
          ]
        }
      ]
    },
    {
      "cell_type": "markdown",
      "source": [
        "2.2 What is the fare of a 14 mile trip that took 75 minutes using M2"
      ],
      "metadata": {
        "id": "t1jdpO-77ImP"
      }
    },
    {
      "cell_type": "code",
      "source": [
        "new_trip_distance = 14.0\n",
        "new_trip_duration = 75.0\n",
        "new_trip_data = spark.createDataFrame([(new_trip_distance, new_trip_duration)], [\"distance\", \"trip_duration_minutes\"])\n",
        "new_trip_data = m2_assembler.transform(new_trip_data)\n",
        "predicted_fare = m2_lr_model.transform(new_trip_data).first().prediction\n",
        "\n",
        "# Print the predicted fare\n",
        "print(f\"The predicted fare for a 14-mile trip that took 75 minutes is ${predicted_fare:.2f} using M2\")"
      ],
      "metadata": {
        "colab": {
          "base_uri": "https://localhost:8080/"
        },
        "id": "Lid6eCLiqQ92",
        "outputId": "2d02b114-1170-4e15-c1dd-944bd393d6ce"
      },
      "execution_count": 9,
      "outputs": [
        {
          "output_type": "stream",
          "name": "stdout",
          "text": [
            "The predicted fare for a 14-mile trip that took 75 minutes is $51.27 using M2\n"
          ]
        }
      ]
    },
    {
      "cell_type": "markdown",
      "source": [
        "2.3 Which fare is higher 10 mile trip taking 40 min or 13 mile trip taking 25 min?"
      ],
      "metadata": {
        "id": "eP5YGDK57NoL"
      }
    },
    {
      "cell_type": "code",
      "source": [
        "# Predictions for the two scenarios\n",
        "trip_1_distance = 10.0\n",
        "trip_1_duration = 40.0\n",
        "\n",
        "trip_2_distance = 13.0\n",
        "trip_2_duration = 25.0\n",
        "\n",
        "trip_1_data = spark.createDataFrame([(trip_1_distance, trip_1_duration)], [\"distance\", \"trip_duration_minutes\"])\n",
        "trip_2_data = spark.createDataFrame([(trip_2_distance, trip_2_duration)], [\"distance\", \"trip_duration_minutes\"])\n",
        "\n",
        "trip_1_data = m2_assembler.transform(trip_1_data)\n",
        "trip_2_data = m2_assembler.transform(trip_2_data)\n",
        "\n",
        "predicted_fare_1 = m2_lr_model.transform(trip_1_data).first().prediction\n",
        "predicted_fare_2 = m2_lr_model.transform(trip_2_data).first().prediction\n",
        "\n",
        "print(\"Predicted Fare for trip1 using M2\",predicted_fare_1)\n",
        "print(\"Predicted Fare for trip2 using M2\",predicted_fare_2)\n",
        "\n",
        "# Determine which fare is higher\n",
        "if predicted_fare_1 > predicted_fare_2:\n",
        "    print(\"The fare for the 10-mile trip taking 40 minutes is higher.\")\n",
        "elif predicted_fare_1 < predicted_fare_2:\n",
        "    print(\"The fare for the 13-mile trip taking 25 minutes is higher.\")\n",
        "else:\n",
        "    print(\"The fares for both scenarios are the same.\")\n"
      ],
      "metadata": {
        "colab": {
          "base_uri": "https://localhost:8080/"
        },
        "id": "H0r177UiwKVs",
        "outputId": "6c9dc949-5ced-461e-fa0d-c58f80160b70"
      },
      "execution_count": 10,
      "outputs": [
        {
          "output_type": "stream",
          "name": "stdout",
          "text": [
            "Predicted Fare for trip1 using M2 38.35805763935095\n",
            "Predicted Fare for trip2 using M2 47.68260649672519\n",
            "The fare for the 13-mile trip taking 25 minutes is higher.\n"
          ]
        }
      ]
    },
    {
      "cell_type": "markdown",
      "source": [
        "3. Using Spark operations (transformation and actions) compute the average tip amount"
      ],
      "metadata": {
        "id": "r_tgZhu_7V-w"
      }
    },
    {
      "cell_type": "code",
      "source": [
        "# Average tip amount\n",
        "average_tip = m2_data_all.select(\"tip\").agg({\"tip\": \"avg\"}).collect()[0][0]\n",
        "\n",
        "# Print the average tip amount\n",
        "print(f\"The average tip amount is: ${average_tip:.2f}\")\n"
      ],
      "metadata": {
        "colab": {
          "base_uri": "https://localhost:8080/"
        },
        "id": "pmXuy6gZqu5M",
        "outputId": "279381ab-9579-4fa6-ff4a-1fb72c25c95a"
      },
      "execution_count": 11,
      "outputs": [
        {
          "output_type": "stream",
          "name": "stdout",
          "text": [
            "The average tip amount is: $1.70\n"
          ]
        }
      ]
    },
    {
      "cell_type": "markdown",
      "source": [
        "4. During which hour the city experiences the most number of trips? E.g. 10am-11am or 4pm-5pm"
      ],
      "metadata": {
        "id": "-8xOI_S77bs1"
      }
    },
    {
      "cell_type": "code",
      "source": [
        "from pyspark.sql.functions import hour\n",
        "\n",
        "# Extracting hour from the pickup date and time\n",
        "m2_data_all = m2_data_all.withColumn(\"pickup_hour\", hour(m2_data_all[\"pickup_datetime\"]))\n",
        "\n",
        "#number of trips for each hour\n",
        "hourly_trip_counts = m2_data_all.groupBy(\"pickup_hour\").count().orderBy(\"pickup_hour\")\n",
        "\n",
        "# the hour with the highest number of trips\n",
        "most_trips_hour = hourly_trip_counts.orderBy(hourly_trip_counts[\"count\"].desc()).first()[\"pickup_hour\"]\n",
        "print(f\"The city experiences the most number of trips during the hour {most_trips_hour}:00 - {most_trips_hour + 1}:00\")"
      ],
      "metadata": {
        "colab": {
          "base_uri": "https://localhost:8080/"
        },
        "id": "vwHonqkwrbT0",
        "outputId": "ee78ea8a-b2f4-40dd-89b0-b6c7a6b04f07"
      },
      "execution_count": 12,
      "outputs": [
        {
          "output_type": "stream",
          "name": "stdout",
          "text": [
            "The city experiences the most number of trips during the hour 17:00 - 18:00\n"
          ]
        }
      ]
    },
    {
      "cell_type": "markdown",
      "source": [
        "5. Compare Spark’s performance\n",
        "Divide the data into 10 parts: 10%, 20%, …, 100%\n",
        "Plot the time taken by each method"
      ],
      "metadata": {
        "id": "ZzQ_obLb7gLI"
      }
    },
    {
      "cell_type": "code",
      "source": [
        "import time\n",
        "import matplotlib.pyplot as plt\n",
        "\n",
        "# Timing arrays for both models\n",
        "duration_model_A = []\n",
        "duration_model_B = []\n",
        "\n",
        "# Evaluate for various data sizes from 10% to 100%\n",
        "for data_fraction in range(10, 110, 10):\n",
        "\n",
        "    # Sampling data for Model A\n",
        "    sampled_A = m1_data.sample(fraction=data_fraction/100.0, seed=7)\n",
        "    train_A, test_A = sampled_A.randomSplit([0.7, 0.3], seed=7)\n",
        "\n",
        "    # Start timing Model A training\n",
        "    start_A = time.time()\n",
        "\n",
        "    # Feature extraction for Model A\n",
        "    feature_assembler_A = VectorAssembler(inputCols=[\"distance\"], outputCol=\"features_for_A\")\n",
        "    ready_train_A = feature_assembler_A.transform(train_A)\n",
        "    ready_test_A = feature_assembler_A.transform(test_A)\n",
        "\n",
        "    regression_A = LinearRegression(labelCol=\"fare\", featuresCol=\"features_for_A\")\n",
        "    trained_A = regression_A.fit(ready_train_A)\n",
        "\n",
        "    end_A = time.time()\n",
        "    duration_model_A.append(end_A - start_A)\n",
        "\n",
        "    # Sampling data for Model B\n",
        "    sampled_B = m2_training_data.sample(fraction=data_fraction/100.0, seed=7)\n",
        "    train_B, test_B = sampled_B.randomSplit([0.7, 0.3], seed=7)\n",
        "\n",
        "    # Start timing Model B training\n",
        "    start_B = time.time()\n",
        "\n",
        "    # Feature extraction for Model B\n",
        "    feature_assembler_B = VectorAssembler(inputCols=[\"distance\", \"trip_duration_minutes\"], outputCol=\"features_for_B\")\n",
        "    ready_train_B = feature_assembler_B.transform(train_B)\n",
        "    ready_test_B = feature_assembler_B.transform(test_B)\n",
        "\n",
        "    regression_B = LinearRegression(labelCol=\"fare\", featuresCol=\"features_for_B\")\n",
        "    trained_B = regression_B.fit(ready_train_B)\n",
        "\n",
        "    end_B = time.time()\n",
        "    duration_model_B.append(end_B - start_B)\n",
        "\n",
        "# Visualization of the results\n",
        "data_sizes = [x for x in range(10, 110, 10)]\n",
        "\n",
        "plt.plot(data_sizes, duration_model_A, label=\"Regression Model A\")\n",
        "plt.plot(data_sizes, duration_model_B, label=\"Regression Model B\")\n",
        "plt.xlabel(\"Data Percentage\")\n",
        "plt.ylabel(\"Duration (seconds)\")\n",
        "plt.title(\"Performance Comparison\")\n",
        "plt.legend()\n",
        "plt.show()"
      ],
      "metadata": {
        "colab": {
          "base_uri": "https://localhost:8080/",
          "height": 472
        },
        "id": "kl4fN__HSQao",
        "outputId": "6ba134e1-935b-46bc-8df0-3d21956b947d"
      },
      "execution_count": 13,
      "outputs": [
        {
          "output_type": "display_data",
          "data": {
            "text/plain": [
              "<Figure size 640x480 with 1 Axes>"
            ],
            "image/png": "[encoded data removed]"
          },
          "metadata": {}
        }
      ]
    }
  ]
}