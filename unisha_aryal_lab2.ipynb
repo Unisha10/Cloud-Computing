{
  "nbformat": 4,
  "nbformat_minor": 0,
  "metadata": {
    "colab": {
      "provenance": []
    },
    "kernelspec": {
      "name": "python3",
      "display_name": "Python 3"
    },
    "language_info": {
      "name": "python"
    }
  },
  "cells": [
    {
      "cell_type": "code",
      "execution_count": 2,
      "metadata": {
        "id": "mo-38T1d773i"
      },
      "outputs": [],
      "source": [
        "!apt-get install openjdk-8-jdk-headless -qq > /dev/null\n",
        "!wget -q https://archive.apache.org/dist/spark/spark-3.2.0/spark-3.2.0-bin-hadoop3.2.tgz\n",
        "!tar xf spark-3.2.0-bin-hadoop3.2.tgz\n",
        "!pip install -q findspark"
      ]
    },
    {
      "cell_type": "code",
      "source": [
        "import os\n",
        "os.environ[\"JAVA_HOME\"] = \"/usr/lib/jvm/java-8-openjdk-amd64\"\n",
        "os.environ[\"SPARK_HOME\"] = \"spark-3.2.0-bin-hadoop3.2\""
      ],
      "metadata": {
        "id": "hykz_iR278Z-"
      },
      "execution_count": 18,
      "outputs": []
    },
    {
      "cell_type": "code",
      "source": [
        "import findspark\n",
        "findspark.init()"
      ],
      "metadata": {
        "id": "uW9FiEHk78cr"
      },
      "execution_count": 19,
      "outputs": []
    },
    {
      "cell_type": "code",
      "source": [
        "from google.colab import drive\n",
        "drive.mount('/content/drive')"
      ],
      "metadata": {
        "colab": {
          "base_uri": "https://localhost:8080/"
        },
        "id": "hq35iSK578hm",
        "outputId": "da7abd49-3cfa-41c0-ad23-1d786a810aa7"
      },
      "execution_count": 20,
      "outputs": [
        {
          "output_type": "stream",
          "name": "stdout",
          "text": [
            "Drive already mounted at /content/drive; to attempt to forcibly remount, call drive.mount(\"/content/drive\", force_remount=True).\n"
          ]
        }
      ]
    },
    {
      "cell_type": "code",
      "source": [
        "from pyspark.sql import SparkSession\n",
        "from pyspark.sql.functions import col, collect_list, size"
      ],
      "metadata": {
        "id": "UfojsKDJ78kB"
      },
      "execution_count": 21,
      "outputs": []
    },
    {
      "cell_type": "code",
      "source": [
        "spark = SparkSession.builder.appName(\"PageRankAnalysis\").getOrCreate()"
      ],
      "metadata": {
        "id": "yalFcgGB78mS"
      },
      "execution_count": 22,
      "outputs": []
    },
    {
      "cell_type": "code",
      "source": [
        "data_df = spark.read.text('/content/drive/MyDrive/pagerank.txt')"
      ],
      "metadata": {
        "id": "1TVeMjkD78om"
      },
      "execution_count": 23,
      "outputs": []
    },
    {
      "cell_type": "code",
      "source": [
        "# Split the lines into (source_node, target_node) pairs\n",
        "edges_df = data_df.selectExpr(\"split(value, ' ')[0] as source\", \"split(value, ' ')[1] as target\")\n"
      ],
      "metadata": {
        "id": "CaO9eXKK78q9"
      },
      "execution_count": 24,
      "outputs": []
    },
    {
      "cell_type": "code",
      "source": [
        "# 1. Python list: Output sorted (based on the node id) list of incoming edges\n",
        "incoming_edges_list = edges_df.groupBy(\"target\").agg(collect_list(\"source\").alias(\"incoming_edges\")).orderBy(\"target\").collect()\n"
      ],
      "metadata": {
        "id": "zNzptG9z78tj"
      },
      "execution_count": 25,
      "outputs": []
    },
    {
      "cell_type": "code",
      "source": [
        "# 2. Python dictionary: Show only the nodes who have exactly 5 incoming edges\n",
        "nodes_with_5_incoming_edges = edges_df.groupBy(\"target\").agg(size(collect_list(\"source\")).alias(\"incoming_count\")).filter(\"incoming_count = 5\").select(\"target\").collect()\n",
        "nodes_with_5_incoming_edges_dict = {row[\"target\"]: 5 for row in nodes_with_5_incoming_edges}"
      ],
      "metadata": {
        "id": "pjSdee_i78vx"
      },
      "execution_count": 26,
      "outputs": []
    },
    {
      "cell_type": "code",
      "source": [
        "# 3. Python list: Show the incoming edges of the node '1'\n",
        "incoming_edges_of_node_1 = edges_df.filter(\"target = '1'\").select(\"source\").collect()\n"
      ],
      "metadata": {
        "id": "AK8FNCYm78x7"
      },
      "execution_count": 27,
      "outputs": []
    },
    {
      "cell_type": "code",
      "source": [
        "print(\"1. Sorted list of incoming edges:\")\n",
        "print(sorted(incoming_edges_list))\n",
        "\n",
        "print(\"\\n2. Nodes with exactly 5 incoming edges (Python dictionary):\")\n",
        "print(nodes_with_5_incoming_edges_dict)\n",
        "\n",
        "print(\"\\n3. Incoming edges of node '1':\")\n",
        "print([row[\"source\"] for row in incoming_edges_of_node_1])\n"
      ],
      "metadata": {
        "colab": {
          "base_uri": "https://localhost:8080/"
        },
        "id": "uS0i05tp92mt",
        "outputId": "96127727-0027-4951-cf89-341eb46db39d"
      },
      "execution_count": 28,
      "outputs": [
        {
          "output_type": "stream",
          "name": "stdout",
          "text": [
            "1. Sorted list of incoming edges:\n",
            "[Row(target='1', incoming_edges=['9', '4', '7', '1', '5']), Row(target='2', incoming_edges=['8', '7', '6', '1', '5']), Row(target='3', incoming_edges=['4', '1']), Row(target='4', incoming_edges=['9', '2', '6', '8', '1', '3', '6', '3']), Row(target='5', incoming_edges=['4', '5', '5', '2', '4']), Row(target='6', incoming_edges=['6', '9', '3', '5', '4', '8', '5', '6']), Row(target='7', incoming_edges=['7', '2', '2', '3', '6']), Row(target='8', incoming_edges=['5', '8', '3', '4', '1', '3', '9', '6']), Row(target='9', incoming_edges=['5', '9', '4', '9'])]\n",
            "\n",
            "2. Nodes with exactly 5 incoming edges (Python dictionary):\n",
            "{'7': 5, '5': 5, '1': 5, '2': 5}\n",
            "\n",
            "3. Incoming edges of node '1':\n",
            "['9', '4', '7', '1', '5']\n"
          ]
        }
      ]
    },
    {
      "cell_type": "code",
      "source": [],
      "metadata": {
        "id": "ScKXNinu92qC"
      },
      "execution_count": null,
      "outputs": []
    },
    {
      "cell_type": "code",
      "source": [],
      "metadata": {
        "id": "mdCG_Yq_92tO"
      },
      "execution_count": null,
      "outputs": []
    },
    {
      "cell_type": "code",
      "source": [],
      "metadata": {
        "id": "JA_HDx7f92wN"
      },
      "execution_count": null,
      "outputs": []
    },
    {
      "cell_type": "code",
      "source": [],
      "metadata": {
        "id": "PRCdR53U780N"
      },
      "execution_count": null,
      "outputs": []
    }
  ]
}