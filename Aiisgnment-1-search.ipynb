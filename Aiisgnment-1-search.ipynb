{
  "nbformat": 4,
  "nbformat_minor": 0,
  "metadata": {
    "colab": {
      "provenance": []
    },
    "kernelspec": {
      "name": "python3",
      "display_name": "Python 3"
    },
    "language_info": {
      "name": "python"
    }
  },
  "cells": [
    {
      "cell_type": "code",
      "execution_count": 1,
      "metadata": {
        "id": "wYnU7bQXKPdR"
      },
      "outputs": [],
      "source": [
        "!apt-get install openjdk-8-jdk-headless -qq > /dev/null\n",
        "!wget -q https://archive.apache.org/dist/spark/spark-3.2.0/spark-3.2.0-bin-hadoop3.2.tgz\n",
        "!tar xf spark-3.2.0-bin-hadoop3.2.tgz\n",
        "!pip install -q findspark"
      ]
    },
    {
      "cell_type": "code",
      "source": [
        "import os\n",
        "os.environ[\"JAVA_HOME\"] = \"/usr/lib/jvm/java-8-openjdk-amd64\"\n",
        "os.environ[\"SPARK_HOME\"] = \"spark-3.2.0-bin-hadoop3.2\""
      ],
      "metadata": {
        "id": "Hl3fH_fBKiFS"
      },
      "execution_count": 44,
      "outputs": []
    },
    {
      "cell_type": "code",
      "source": [
        "import findspark\n",
        "findspark.init()"
      ],
      "metadata": {
        "id": "1JDdl1bcKiH1"
      },
      "execution_count": 45,
      "outputs": []
    },
    {
      "cell_type": "code",
      "source": [
        "from google.colab import drive\n",
        "drive.mount('/content/drive')"
      ],
      "metadata": {
        "colab": {
          "base_uri": "https://localhost:8080/"
        },
        "id": "3sAdM9_GKiKZ",
        "outputId": "ea6054c3-c2a0-47e6-b21f-7cc8f59386a2"
      },
      "execution_count": 46,
      "outputs": [
        {
          "output_type": "stream",
          "name": "stdout",
          "text": [
            "Drive already mounted at /content/drive; to attempt to forcibly remount, call drive.mount(\"/content/drive\", force_remount=True).\n"
          ]
        }
      ]
    },
    {
      "cell_type": "code",
      "source": [
        "import string\n",
        "from collections import defaultdict"
      ],
      "metadata": {
        "id": "n8_IZKotKiMi"
      },
      "execution_count": 56,
      "outputs": []
    },
    {
      "cell_type": "code",
      "source": [
        "def load_stopwords():\n",
        "    with open('/content/drive/MyDrive/stopwords.txt', \"r\") as file:\n",
        "        stopwords = file.read().splitlines()\n",
        "    return stopwords"
      ],
      "metadata": {
        "id": "V1qZ38POKiO0"
      },
      "execution_count": 57,
      "outputs": []
    },
    {
      "cell_type": "code",
      "source": [
        "# Preprocessing a text by converting to lowercase and removing punctuation\n",
        "def preprocess_text(text):\n",
        "    text = text.lower()\n",
        "    translator = str.maketrans('', '', string.punctuation)\n",
        "    text = text.translate(translator)\n",
        "    return text"
      ],
      "metadata": {
        "id": "kd3oR8CfKiQ8"
      },
      "execution_count": 63,
      "outputs": []
    },
    {
      "cell_type": "code",
      "source": [
        "# Indexing the documents (version 1 without lambda function)\n",
        "def index_v1(documents_folder):\n",
        "    stopwords = load_stopwords()\n",
        "    index = defaultdict(dict)  # {word: {doc_id: frequency}}\n",
        "\n",
        "    for filename in os.listdir(documents_folder):\n",
        "        with open(os.path.join(documents_folder, filename), \"r\", errors='ignore') as file:\n",
        "            text = file.read()\n",
        "            text = preprocess_text(text)\n",
        "            words = text.split()\n",
        "\n",
        "            for word in words:\n",
        "                if word not in stopwords:\n",
        "                    index[word][filename] = index[word].get(filename, 0) + 1\n",
        "\n",
        "    return index"
      ],
      "metadata": {
        "id": "lUG_okw8K6rr"
      },
      "execution_count": 59,
      "outputs": []
    },
    {
      "cell_type": "code",
      "source": [
        "# Indexing the documents (version 2 using lambda function)\n",
        "def index_v2(documents_folder):\n",
        "    stopwords = load_stopwords()\n",
        "    index = defaultdict(lambda: defaultdict(int))  # {word: {doc_id: frequency}}\n",
        "\n",
        "    for filename in os.listdir(documents_folder):\n",
        "        with open(os.path.join(documents_folder, filename), \"r\", errors='ignore') as file:\n",
        "            text = file.read()\n",
        "            text = preprocess_text(text)\n",
        "            words = text.split()\n",
        "\n",
        "            for word in words:\n",
        "                if word not in stopwords:\n",
        "                    index[word][filename] += 1\n",
        "\n",
        "    return index"
      ],
      "metadata": {
        "id": "ZuEp5RatK6uY"
      },
      "execution_count": 60,
      "outputs": []
    },
    {
      "cell_type": "code",
      "source": [
        "def search(query, index):\n",
        "    stopwords = load_stopwords()\n",
        "    query = preprocess_text(query)\n",
        "    query_words = query.split()\n",
        "    scores = defaultdict(int)\n",
        "\n",
        "    for word in query_words:\n",
        "        if word not in stopwords and word in index:\n",
        "            for doc_id, freq in index[word].items():\n",
        "                scores[doc_id] += freq\n",
        "\n",
        "    # Sort documents by score in descending order\n",
        "    sorted_scores = sorted(scores.items(), key=lambda x: x[1], reverse=True)\n",
        "\n",
        "    # Print document IDs and scores\n",
        "    for doc_id, score in sorted_scores:\n",
        "        if score > 0:\n",
        "            print(f\"Document ID: {doc_id}, Score: {score}\")"
      ],
      "metadata": {
        "id": "7SSyzgIuK6w5"
      },
      "execution_count": 61,
      "outputs": []
    },
    {
      "cell_type": "code",
      "source": [
        "if __name__ == \"__main__\":\n",
        "    documents_folder = '/content/drive/MyDrive/Assignment1_data'  # Change to the path of your documents folder\n",
        "    index1 = index_v1(documents_folder)\n",
        "    index2 = index_v2(documents_folder)\n",
        "\n",
        "    query = input(\"Enter a set of words to search: \")\n",
        "    print(\"\\nSearch Results (Version 1 without lambda function):\")\n",
        "    search(query, index1)\n",
        "\n",
        "    print(\"\\nSearch Results (Version 2 using lambda function):\")\n",
        "    search(query, index2)"
      ],
      "metadata": {
        "colab": {
          "base_uri": "https://localhost:8080/"
        },
        "id": "7lCBh5UWK6zY",
        "outputId": "a3638d1d-2951-4ac8-b027-2946593f7fa4"
      },
      "execution_count": 62,
      "outputs": [
        {
          "output_type": "stream",
          "name": "stdout",
          "text": [
            "Enter a set of words to search: Sharapova black hole\n",
            "\n",
            "Search Results (Version 1 without lambda function):\n",
            "Document ID: 14.txt, Score: 10\n",
            "Document ID: 15.txt, Score: 3\n",
            "Document ID: 20.txt, Score: 1\n",
            "\n",
            "Search Results (Version 2 using lambda function):\n",
            "Document ID: 14.txt, Score: 10\n",
            "Document ID: 15.txt, Score: 3\n",
            "Document ID: 20.txt, Score: 1\n"
          ]
        }
      ]
    },
    {
      "cell_type": "code",
      "source": [],
      "metadata": {
        "id": "Kz9lN78eK616"
      },
      "execution_count": null,
      "outputs": []
    },
    {
      "cell_type": "code",
      "source": [],
      "metadata": {
        "id": "eHMvCMTUQDAS"
      },
      "execution_count": null,
      "outputs": []
    },
    {
      "cell_type": "code",
      "source": [],
      "metadata": {
        "id": "DTgdW_2VQDLR"
      },
      "execution_count": null,
      "outputs": []
    }
  ]
}